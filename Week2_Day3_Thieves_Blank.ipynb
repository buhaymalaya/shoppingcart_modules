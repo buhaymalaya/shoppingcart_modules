{
 "cells": [
  {
   "cell_type": "markdown",
   "metadata": {},
   "source": [
    "# Data Collections 2 (Dictionaries, Sets) and Importing Modules"
   ]
  },
  {
   "cell_type": "markdown",
   "metadata": {},
   "source": [
    "## Tasks Today:\n",
    "\n",
    "1) Dictionary <br>\n",
    " &nbsp;&nbsp;&nbsp;&nbsp; a) Declaring (key, value) <br>\n",
    " &nbsp;&nbsp;&nbsp;&nbsp; b) Accessing Values <br>\n",
    " &nbsp;&nbsp;&nbsp;&nbsp; ------ Exercise #1 - Print the eye color of each person in a double nested dict <br>\n",
    " &nbsp;&nbsp;&nbsp;&nbsp; c) Adding New Pairs <br>\n",
    " &nbsp;&nbsp;&nbsp;&nbsp; d) Modifying Values <br>\n",
    " &nbsp;&nbsp;&nbsp;&nbsp; e) Removing Key, Value Pairs <br>\n",
    " &nbsp;&nbsp;&nbsp;&nbsp; f) Looping a Dictionary <br>\n",
    " &nbsp;&nbsp;&nbsp;&nbsp; g) Looping Only Keys <br>\n",
    " &nbsp;&nbsp;&nbsp;&nbsp; h) Looping Only Values <br>\n",
    " &nbsp;&nbsp;&nbsp;&nbsp; ------ Exercise #2 - Create a Function that Prints All Key Value Pairs within a print .format()  <br>\n",
    " &nbsp;&nbsp;&nbsp;&nbsp; i) sorted() <br>\n",
    " &nbsp;&nbsp;&nbsp;&nbsp; j) Lists with Dictionaries <br>\n",
    " &nbsp;&nbsp;&nbsp;&nbsp; k) Dictionaries with Lists <br>\n",
    " &nbsp;&nbsp;&nbsp;&nbsp; l) Dictionaries with Dictionaries <br>\n",
    " &nbsp;&nbsp;&nbsp;&nbsp; ------ Exercise #3 - Write a Function that asks someone's name and address, and then stores that into a dictionary, which prints all names and addresses after they're done putting information in...  <br>\n",
    "2) Dictionaries vs. Lists (over time)<br>\n",
    "3) Set <br>\n",
    " &nbsp;&nbsp;&nbsp;&nbsp; a) Declaring <br>\n",
    " &nbsp;&nbsp;&nbsp;&nbsp; b) .add() <br>\n",
    " &nbsp;&nbsp;&nbsp;&nbsp; c) .remove() <br>\n",
    " &nbsp;&nbsp;&nbsp;&nbsp; d) .union() <br>\n",
    " &nbsp;&nbsp;&nbsp;&nbsp; e) .intersection() <br>\n",
    " &nbsp;&nbsp;&nbsp;&nbsp; f) .difference() <br>\n",
    " &nbsp;&nbsp;&nbsp;&nbsp; g) Frozen Set <br>\n",
    "4) Modules <br>\n",
    " &nbsp;&nbsp;&nbsp;&nbsp; a) Importing Entire Modules <br>\n",
    " &nbsp;&nbsp;&nbsp;&nbsp; b) Importing Methods Only <br>\n",
    " &nbsp;&nbsp;&nbsp;&nbsp; c) Using the 'as' Keyword <br>\n",
    " &nbsp;&nbsp;&nbsp;&nbsp; d) Creating a Module <br>\n",
    "5) Exercises <br>\n",
    " &nbsp;&nbsp;&nbsp;&nbsp; a) Build a Shopping Cart <br>\n",
    " &nbsp;&nbsp;&nbsp;&nbsp; b) Create Your Own Module <br>"
   ]
  },
  {
   "cell_type": "markdown",
   "metadata": {},
   "source": [
    "## Dictionary <br>\n",
    "<p>A collection of data with 'key:value' pairs. Dictionaries are ordered as of Python 3.6</p>"
   ]
  },
  {
   "cell_type": "markdown",
   "metadata": {},
   "source": [
    "##### Declaring (key, value)"
   ]
  },
  {
   "cell_type": "code",
   "execution_count": 3,
   "metadata": {},
   "outputs": [
    {
     "name": "stdout",
     "output_type": "stream",
     "text": [
      "<class 'dict'>\n"
     ]
    }
   ],
   "source": [
    "# denoted by {} keys are usually strings but values can be anything (strings, int)\n",
    "\n",
    "new_dict = {}\n",
    "\n",
    "new_dict = dict() # new dictionary\n",
    "\n",
    "user = {\n",
    "    'username': 'Dylank',\n",
    "    # key(unlocks value): value\n",
    "    'password': '123', # or 123\n",
    "    'fav_color': 'green',\n",
    "}\n",
    "\n",
    "print(type(new_dict))\n",
    "\n",
    "print(user)"
   ]
  },
  {
   "cell_type": "markdown",
   "metadata": {},
   "source": [
    "##### Accessing Values"
   ]
  },
  {
   "cell_type": "code",
   "execution_count": 4,
   "metadata": {},
   "outputs": [
    {
     "name": "stdout",
     "output_type": "stream",
     "text": [
      "Dylank\n"
     ]
    }
   ],
   "source": [
    "# use the key corresponding to the value\n",
    "\n",
    "user = {\n",
    "    'username': 'Dylank',\n",
    "    # key(unlocks value): value\n",
    "    'password': '123', # or 123\n",
    "    'fav_color': 'green',\n",
    "}\n",
    "\n",
    "print(user['username'])"
   ]
  },
  {
   "cell_type": "markdown",
   "metadata": {},
   "source": [
    "## In-Class Exercise #1 - Print a formatted statement from the dictionary below <br>\n",
    "<p>The output should be '2018 Chevrolet Silverado'</p>"
   ]
  },
  {
   "cell_type": "code",
   "execution_count": 12,
   "metadata": {},
   "outputs": [
    {
     "name": "stdout",
     "output_type": "stream",
     "text": [
      "2018 Chevrolet Silverado \n"
     ]
    }
   ],
   "source": [
    "# use the dict below\n",
    "truck = {\n",
    "    'year': 2018,\n",
    "    'make': 'Chevrolet',\n",
    "    'model': 'Silverado'\n",
    "}\n",
    "\n",
    "# .format\n",
    "\n",
    "formatted = f\"{truck['year']} {truck['make']} {truck['model']} \"\n",
    "\n",
    "print(formatted)\n"
   ]
  },
  {
   "cell_type": "markdown",
   "metadata": {},
   "source": [
    "##### Adding New Pairs"
   ]
  },
  {
   "cell_type": "code",
   "execution_count": 14,
   "metadata": {},
   "outputs": [
    {
     "name": "stdout",
     "output_type": "stream",
     "text": [
      "{'username': 'Dylank', 'password': '123', 'fav_color': 'green', 'fav_food': 'Tacos'}\n",
      "{'username': 'Dylank', 'password': '123', 'fav_color': 'green', 'fav_food': 'Tacos', 'pet': 'dog'}\n"
     ]
    }
   ],
   "source": [
    "user = {\n",
    "    'username': 'Dylank',\n",
    "    # key(unlocks value): value\n",
    "    'password': '123', # or 123\n",
    "    'fav_color': 'green',\n",
    "}\n",
    "\n",
    "# create new key you want\n",
    "user['fav_food'] = 'Tacos'\n",
    "print(user)\n",
    "\n",
    "user['pet'] = 'dog'\n",
    "print(user)"
   ]
  },
  {
   "cell_type": "markdown",
   "metadata": {},
   "source": [
    "##### Modifying Values"
   ]
  },
  {
   "cell_type": "code",
   "execution_count": 15,
   "metadata": {},
   "outputs": [
    {
     "name": "stdout",
     "output_type": "stream",
     "text": [
      "{'username': 'Hurricane', 'password': '123', 'fav_color': 'green'}\n"
     ]
    }
   ],
   "source": [
    "#change value of a particular key\n",
    "\n",
    "user = {\n",
    "    'username': 'Dylank',\n",
    "    # key(unlocks value): value\n",
    "    'password': '123', # or 123\n",
    "    'fav_color': 'green',\n",
    "}\n",
    "\n",
    "user['username'] = 'Hurricane'\n",
    "print(user)"
   ]
  },
  {
   "cell_type": "markdown",
   "metadata": {},
   "source": [
    "##### Removing Key, Value Pairs"
   ]
  },
  {
   "cell_type": "code",
   "execution_count": 16,
   "metadata": {},
   "outputs": [
    {
     "name": "stdout",
     "output_type": "stream",
     "text": [
      "{'username': 'Dylank', 'password': '123'}\n"
     ]
    }
   ],
   "source": [
    "# only del\n",
    "\n",
    "\n",
    "user = {\n",
    "    'username': 'Dylank',\n",
    "    # key(unlocks value): value\n",
    "    'password': '123', # or 123\n",
    "    'fav_color': 'green',\n",
    "}\n",
    "\n",
    "del user['fav_color']\n",
    "print(user)"
   ]
  },
  {
   "cell_type": "markdown",
   "metadata": {},
   "source": [
    "##### Looping a Dictionary"
   ]
  },
  {
   "cell_type": "code",
   "execution_count": 17,
   "metadata": {},
   "outputs": [
    {
     "name": "stdout",
     "output_type": "stream",
     "text": [
      "My username is Dylank\n",
      "My password is 123\n",
      "My fav_color is green\n"
     ]
    }
   ],
   "source": [
    "# dictionaries are iterable !\n",
    "# can get keys and values or only one of them\n",
    "\n",
    "# .items() - for both key and value\n",
    "\n",
    "user = {\n",
    "    'username': 'Dylank',\n",
    "    # key(unlocks value): value\n",
    "    'password': '123', # or 123\n",
    "    'fav_color': 'green',\n",
    "}\n",
    "\n",
    "# Create statements with F Key\n",
    "for key, value in user.items():\n",
    "    print(f\"My {key} is {value}\")\n",
    "\n"
   ]
  },
  {
   "cell_type": "markdown",
   "metadata": {},
   "source": [
    "##### Looping Only Keys"
   ]
  },
  {
   "cell_type": "code",
   "execution_count": 21,
   "metadata": {},
   "outputs": [
    {
     "name": "stdout",
     "output_type": "stream",
     "text": [
      "username\n",
      "password\n",
      "fav_color\n"
     ]
    }
   ],
   "source": [
    "# .keys()\n",
    "\n",
    "user = {\n",
    "    'username': 'Dylank',\n",
    "    # key(unlocks value): value\n",
    "    'password': '123', # or 123\n",
    "    'fav_color': 'green',\n",
    "}\n",
    "\n",
    "# for key in user:\n",
    "#     print(key)\n",
    "\n",
    "for key in user.keys():\n",
    "    print(key)"
   ]
  },
  {
   "cell_type": "markdown",
   "metadata": {},
   "source": [
    "##### Looping Only Values"
   ]
  },
  {
   "cell_type": "code",
   "execution_count": 22,
   "metadata": {},
   "outputs": [
    {
     "name": "stdout",
     "output_type": "stream",
     "text": [
      "Dylank\n",
      "123\n",
      "green\n"
     ]
    }
   ],
   "source": [
    "# .values()\n",
    "\n",
    "user = {\n",
    "    'username': 'Dylank',\n",
    "    # key(unlocks value): value\n",
    "    'password': '123', # or 123\n",
    "    'fav_color': 'green',\n",
    "}\n",
    "\n",
    "for value in user.values():\n",
    "    print(value)"
   ]
  },
  {
   "cell_type": "markdown",
   "metadata": {},
   "source": [
    "## In-Class Exercise #2 - Create a Function that Prints All Key Value Pairs within a print .format() <br>\n",
    "<p><b>Output should be:</b><br>\n",
    "Max has blue eyes<br>\n",
    "Lilly has brown eyes<br>\n",
    "Barney has blue eyes<br>\n",
    "etc.\n",
    "</p>"
   ]
  },
  {
   "cell_type": "code",
   "execution_count": 31,
   "metadata": {},
   "outputs": [
    {
     "name": "stdout",
     "output_type": "stream",
     "text": [
      "Max has blue eyes!\n",
      "Lilly has brown eyes!\n",
      "Barney has blue eyes!\n",
      "Larney has brown eyes!\n",
      "Ted has purple eyes!\n"
     ]
    }
   ],
   "source": [
    "# use the dict below\n",
    "# .format() was discussed on day2\n",
    "\n",
    "people = {\n",
    "    'Max': 'blue',\n",
    "    'Lilly': 'brown',\n",
    "    'Barney': 'blue',\n",
    "    'Larney': 'brown',\n",
    "    'Ted': 'purple'\n",
    "}\n",
    "\n",
    "def eyes(peeps):\n",
    "    for key, value in peeps.items():\n",
    "        print(f\"{key} has {value} eyes!\")\n",
    "\n",
    "eyes(people)\n",
    "# call the function ^\n",
    "    \n",
    "    \n",
    "\n",
    "\n"
   ]
  },
  {
   "cell_type": "markdown",
   "metadata": {},
   "source": [
    "##### sorted()"
   ]
  },
  {
   "cell_type": "code",
   "execution_count": 34,
   "metadata": {},
   "outputs": [
    {
     "name": "stdout",
     "output_type": "stream",
     "text": [
      "[('Barney', 'blue'), ('Larney', 'brown'), ('Lilly', 'brown'), ('Max', 'blue'), ('Ted', 'purple')]\n"
     ]
    }
   ],
   "source": [
    "# sorts variables in order\n",
    "# sorted(dict.values()) or dict.keys() \n",
    "# or dict.items() - tuples output based on key\n",
    "\n",
    "people = {\n",
    "    'Max': 'blue',\n",
    "    'Lilly': 'brown',\n",
    "    'Barney': 'blue',\n",
    "    'Larney': 'brown',\n",
    "    'Ted': 'purple'\n",
    "}\n",
    "\n",
    "sorted_dict = sorted(people.items())\n",
    "print(sorted_dict)\n",
    "\n"
   ]
  },
  {
   "cell_type": "markdown",
   "metadata": {},
   "source": [
    "##### List with Dictionaries"
   ]
  },
  {
   "cell_type": "code",
   "execution_count": 39,
   "metadata": {},
   "outputs": [
    {
     "name": "stdout",
     "output_type": "stream",
     "text": [
      "Tommy\n",
      "Dylan\n",
      "l\n"
     ]
    }
   ],
   "source": [
    "thieves = [{'ins1': 'Christian', 'ins2': 'Dylan'}, 'Tommy', 'Dyllorian', 'Tez', 'Michael']\n",
    "# { key,value} is index 0\n",
    "\n",
    "print(thieves[1]) # for Tommy\n",
    "print(thieves[0]['ins2']) # parsing for Dylan\n",
    "print(thieves[0]['ins2'][2])\n",
    "\n"
   ]
  },
  {
   "cell_type": "markdown",
   "metadata": {},
   "source": [
    "##### Dictionaries with Lists"
   ]
  },
  {
   "cell_type": "code",
   "execution_count": 43,
   "metadata": {},
   "outputs": [
    {
     "name": "stdout",
     "output_type": "stream",
     "text": [
      "Alex\n",
      "-----Thieves-----\n",
      "Chris\n",
      "Dylan\n",
      "-----Padawans-----\n",
      "Dylan S\n",
      "Brandt\n",
      "-----Rangers-----\n",
      "Rylan\n",
      "Alex\n"
     ]
    }
   ],
   "source": [
    "# be careful when using numbers as keys in dictionaries, don't confuse them with indexes\n",
    "\n",
    "coding_temple = {\n",
    "    'Thieves': ['Chris', 'Dylan'],\n",
    "    'Padawans': ['Dylan S', 'Brandt'],\n",
    "    'Rangers': ['Rylan', 'Alex']\n",
    "}\n",
    "\n",
    "print(coding_temple['Rangers'][1])\n",
    "\n",
    "for cohort, instructors in coding_temple.items():\n",
    "    print(f'-----{cohort}-----')\n",
    "    # nest for loop to unpack list inside dict\n",
    "    for instructor in instructors:\n",
    "        print(instructor)"
   ]
  },
  {
   "cell_type": "markdown",
   "metadata": {},
   "source": [
    "##### Dictionaries with Dictionaries"
   ]
  },
  {
   "cell_type": "code",
   "execution_count": 44,
   "metadata": {},
   "outputs": [
    {
     "name": "stdout",
     "output_type": "stream",
     "text": [
      "1.00\n"
     ]
    }
   ],
   "source": [
    "# to get values, must traverse through keys\n",
    "\n",
    "menu = {\n",
    "    'omni': {\n",
    "        'chichken salad': '15.00',\n",
    "        'Burger': '200.00'\n",
    "    },\n",
    "    'carni': {\n",
    "        'just steak': '1000',\n",
    "        'egg': '1.00'\n",
    "    },\n",
    "    'vegi': {\n",
    "        'leaves of lettuce': '12.00',\n",
    "        'carrot': '4.00'\n",
    "    }\n",
    "}\n",
    "\n",
    "print(menu['carni']['egg'])\n",
    "\n"
   ]
  },
  {
   "cell_type": "markdown",
   "metadata": {},
   "source": [
    "## Dictionaries vs. Lists (over time) Example of RUNTIME\n",
    "### When inputting values in a Dictionary vs List"
   ]
  },
  {
   "cell_type": "code",
   "execution_count": 2,
   "metadata": {},
   "outputs": [],
   "source": [
    "# EFFICIENCY \n",
    "\n",
    "import time\n",
    "\n",
    "\n",
    "# generate fake dictionary\n",
    "d = {}\n",
    "\n",
    "for i in range(50000000):\n",
    "    d[i] = 'value'\n",
    "    \n",
    "\n",
    "# generate fake list\n",
    "big_list = [x for x in range(50000000)]"
   ]
  },
  {
   "cell_type": "code",
   "execution_count": 3,
   "metadata": {},
   "outputs": [
    {
     "name": "stdout",
     "output_type": "stream",
     "text": [
      "Elapsed time for list: 0.511857271194458\n",
      "Elapsed time for dictionary: 0.0\n"
     ]
    }
   ],
   "source": [
    "# dictionaries have unique keys so it happens instantaneously/faster compared to lists (linear check)\n",
    "\n",
    "# tracking time for list\n",
    "start_time = time.time()\n",
    "\n",
    "if 49999999 in big_list:\n",
    "    pass\n",
    "end_time = time.time() - start_time\n",
    "\n",
    "print('Elapsed time for list: {}'.format(end_time))\n",
    "\n",
    "\n",
    "# tracking time for dictionary\n",
    "start_time = time.time()\n",
    "\n",
    "if 49999999 in d:\n",
    "    pass\n",
    "\n",
    "end_time = time.time() - start_time\n",
    "\n",
    "print('Elapsed time for dictionary: {}'.format(end_time))"
   ]
  },
  {
   "cell_type": "markdown",
   "metadata": {},
   "source": [
    "## Exercise #3 - Write a Function that asks someone's name and address, and then stores that into a dictionary, and continues to do so until they choose to 'quit'. Once they quit, the program should print all names and addresses. <br>\n",
    "<p>\n",
    "<b>Proper steps:</b><br>\n",
    "step 1: write a function that takes in information and stores it in a dictionary<br>\n",
    "step 2: define an empty dictionary to work with<br>\n",
    "step 3: create our loop, which asks the user for information until they quit<br>\n",
    "step 4: ask for the information, and store it into variables<br>\n",
    "step 5: check if the user types quit<br>\n",
    "step 5a: print out all information<br>\n",
    "step 5b: break out of the loop<br>\n",
    "step 6: if they didn't quit, add the information to the dictionary<br>\n",
    "step 7: invoke the function by calling it\n",
    "</p>"
   ]
  },
  {
   "cell_type": "code",
   "execution_count": 60,
   "metadata": {},
   "outputs": [
    {
     "name": "stdout",
     "output_type": "stream",
     "text": [
      "{'buh': '890'}\n",
      "buh lives at: 890\n"
     ]
    }
   ],
   "source": [
    "def addressbook():\n",
    "    book = {}\n",
    "\n",
    "    while True:\n",
    "        name = input('What is your name?')\n",
    "        if name.lower() == 'quit':\n",
    "            break\n",
    "        address = input(\"What is your address?\")\n",
    "        if address.lower() == 'quit':\n",
    "            break\n",
    "\n",
    "        book[name] = address # add to dictionary\n",
    "    print(book)\n",
    "    \n",
    "    for person, address in book.items():\n",
    "        print(f\"{person} lives at: {address}\")\n",
    "\n",
    "addressbook()\n"
   ]
  },
  {
   "cell_type": "markdown",
   "metadata": {},
   "source": [
    "## Set <br>\n",
    "<p>A Set is an unordered collection data type that is iterable (loop), mutable, and has no duplicate elements.<br>Major advantage is that it is highly optimized in checking if something is in the set, as opposed to checking if something is in a list.</p>"
   ]
  },
  {
   "cell_type": "markdown",
   "metadata": {},
   "source": [
    "##### Declaring"
   ]
  },
  {
   "cell_type": "code",
   "execution_count": 61,
   "metadata": {},
   "outputs": [
    {
     "name": "stdout",
     "output_type": "stream",
     "text": [
      "[1, 2, 3, 4]\n"
     ]
    }
   ],
   "source": [
    "# set() or {} do not index, every element is unique\n",
    "\n",
    "this = [1,1,1,1,2,3,4,4]\n",
    "that = set(this)\n",
    "this = list(that)\n",
    "\n",
    "print(this)\n",
    "\n",
    "empty = set()\n",
    "\n"
   ]
  },
  {
   "cell_type": "markdown",
   "metadata": {},
   "source": [
    "##### .add()"
   ]
  },
  {
   "cell_type": "code",
   "execution_count": 63,
   "metadata": {},
   "outputs": [
    {
     "name": "stdout",
     "output_type": "stream",
     "text": [
      "{1, 2, 3, 4, 5, 6}\n"
     ]
    }
   ],
   "source": [
    "# set.add()\n",
    "new_set = {1,2,3,4,5}\n",
    "\n",
    "new_set.add(6)\n",
    "\n",
    "print(new_set)"
   ]
  },
  {
   "cell_type": "markdown",
   "metadata": {},
   "source": [
    "##### .remove()"
   ]
  },
  {
   "cell_type": "code",
   "execution_count": 64,
   "metadata": {},
   "outputs": [
    {
     "name": "stdout",
     "output_type": "stream",
     "text": [
      "{1, 3, 4, 5}\n"
     ]
    }
   ],
   "source": [
    "# removes by value\n",
    "# set.remove()\n",
    "# nums.remove(56)\n",
    "\n",
    "new_set = {1,2,3,4,5}\n",
    "new_set.remove(2)\n",
    "print(new_set)"
   ]
  },
  {
   "cell_type": "markdown",
   "metadata": {},
   "source": [
    "##### .union() "
   ]
  },
  {
   "cell_type": "code",
   "execution_count": 66,
   "metadata": {},
   "outputs": [
    {
     "name": "stdout",
     "output_type": "stream",
     "text": [
      "{1, 2, 3, 4, 5, 6, 7, 8}\n"
     ]
    }
   ],
   "source": [
    "# Returns a union of two sets, can also use '|' or set.union(set)\n",
    "# joins all numbers, gets rid of duplicates\n",
    "\n",
    "set1 = {1,2,3,4,5}\n",
    "set2 = {4,5,6,7,8}\n",
    "\n",
    "set3 = set1.union(set2)\n",
    "set4 = set1 | set2\n",
    "\n",
    "print(set4)"
   ]
  },
  {
   "cell_type": "markdown",
   "metadata": {},
   "source": [
    "##### .intersection()"
   ]
  },
  {
   "cell_type": "code",
   "execution_count": 69,
   "metadata": {},
   "outputs": [
    {
     "name": "stdout",
     "output_type": "stream",
     "text": [
      "{4, 5}\n"
     ]
    }
   ],
   "source": [
    "# Returns an intersection of two sets, can also use '&'\n",
    "# only takes similar elements from both sets\n",
    "\n",
    "set1 = {1,2,3,4,5}\n",
    "set2 = {4,5,6,7,8}\n",
    "\n",
    "set3 = set1.intersection(set2)\n",
    "set4 = set1 & set2\n",
    "print(set4)"
   ]
  },
  {
   "cell_type": "markdown",
   "metadata": {},
   "source": [
    "##### .difference()"
   ]
  },
  {
   "cell_type": "code",
   "execution_count": 94,
   "metadata": {},
   "outputs": [
    {
     "name": "stdout",
     "output_type": "stream",
     "text": [
      "{1, 2, 3}\n",
      "{8, 6, 7}\n",
      "{1, 2, 3}\n"
     ]
    }
   ],
   "source": [
    "# Returns a set containing all the elements of invoking set that are not in the second set, can also use '-'\n",
    "# only takes values from the first set that are not in the second set\n",
    "# order matters\n",
    "\n",
    "set1 = {1,2,3,4,5}\n",
    "set2 = {4,5,6,7,8}\n",
    "\n",
    "set3 = set1.difference(set2)\n",
    "print(set3)\n",
    "\n",
    "set4 = set2.difference(set1)\n",
    "print(set4)\n",
    "\n",
    "set5 = set1 - set2\n",
    "print(set5)\n",
    "\n",
    "# or use the subtraction sign"
   ]
  },
  {
   "cell_type": "markdown",
   "metadata": {},
   "source": [
    "##### .clear()"
   ]
  },
  {
   "cell_type": "code",
   "execution_count": 73,
   "metadata": {},
   "outputs": [
    {
     "name": "stdout",
     "output_type": "stream",
     "text": [
      "set()\n"
     ]
    }
   ],
   "source": [
    "# Empties the whole set\n",
    "# set.clear()\n",
    "\n",
    "set1 = {1,2,3,4,5}\n",
    "\n",
    "set1.clear()\n",
    "\n",
    "print(set1)"
   ]
  },
  {
   "cell_type": "markdown",
   "metadata": {},
   "source": [
    "##### Frozenset <br>\n",
    "<p>Frozen sets are immutable objects that only support methods and operators that produce a result without affecting the frozen set or sets to which they are applied.</p><br><b>Unique & Immutable</b>"
   ]
  },
  {
   "cell_type": "code",
   "execution_count": 75,
   "metadata": {},
   "outputs": [
    {
     "name": "stdout",
     "output_type": "stream",
     "text": [
      "frozenset({1, 2, 3, 4, 5})\n",
      "frozenset({1, 2, 3, 4, 5, 6, 7, 8})\n"
     ]
    }
   ],
   "source": [
    "# frozenset([]) BUT CAN STILL UNION but will be a frozenset\n",
    "\n",
    "set1 = {1,2,3,4,5}\n",
    "set2 = {4,5,6,7,8}\n",
    "\n",
    "set3 = frozenset(set1)\n",
    "print(set3)\n",
    "\n",
    "set4 = set3 | set2\n",
    "\n",
    "print(set4)\n"
   ]
  },
  {
   "cell_type": "markdown",
   "metadata": {},
   "source": [
    "## Modules"
   ]
  },
  {
   "cell_type": "markdown",
   "metadata": {},
   "source": [
    "##### Importing Entire Modules"
   ]
  },
  {
   "cell_type": "code",
   "execution_count": 81,
   "metadata": {},
   "outputs": [
    {
     "name": "stdout",
     "output_type": "stream",
     "text": [
      "3.141592653589793\n",
      "7\n",
      "8\n",
      "3\n"
     ]
    }
   ],
   "source": [
    "# import\n",
    "\n",
    "import math\n",
    "\n",
    "print(math.pi)\n",
    "\n",
    "print(math.floor(7.89))\n",
    "print(math.ceil(7.2))\n",
    "print(round(3.14))\n"
   ]
  },
  {
   "cell_type": "markdown",
   "metadata": {},
   "source": [
    "##### Importing Methods Only"
   ]
  },
  {
   "cell_type": "code",
   "execution_count": 85,
   "metadata": {},
   "outputs": [
    {
     "name": "stdout",
     "output_type": "stream",
     "text": [
      "3.141592653589793\n",
      "8\n"
     ]
    }
   ],
   "source": [
    "# from 'xxx' import 'xxx'\n",
    "# from math import floor\n",
    "\n",
    "from math import pi\n",
    "print(pi)\n",
    "\n",
    "from math import ceil, floor\n",
    "print(ceil(7.2))"
   ]
  },
  {
   "cell_type": "markdown",
   "metadata": {},
   "source": [
    "##### Using the 'as' Keyword"
   ]
  },
  {
   "cell_type": "code",
   "execution_count": 87,
   "metadata": {},
   "outputs": [
    {
     "name": "stdout",
     "output_type": "stream",
     "text": [
      "3.141592653589793\n",
      "10\n"
     ]
    }
   ],
   "source": [
    "# from 'xxx' import 'xxx' as 'xxx' or import 'xxx' as 'xxx'\n",
    "# from math import floor as f\n",
    "\n",
    "import math as m\n",
    "from math import ceil as roundup\n",
    "\n",
    "print(m.pi)\n",
    "print(roundup(9.1))\n",
    "\n"
   ]
  },
  {
   "cell_type": "markdown",
   "metadata": {},
   "source": [
    "##### Creating a Module"
   ]
  },
  {
   "cell_type": "code",
   "execution_count": 95,
   "metadata": {},
   "outputs": [
    {
     "ename": "ModuleNotFoundError",
     "evalue": "No module named 'module'",
     "output_type": "error",
     "traceback": [
      "\u001b[0;31m---------------------------------------------------------------------------\u001b[0m",
      "\u001b[0;31mModuleNotFoundError\u001b[0m                       Traceback (most recent call last)",
      "Cell \u001b[0;32mIn[95], line 5\u001b[0m\n\u001b[1;32m      1\u001b[0m \u001b[38;5;66;03m#create a file on VS code module.py and start writing helper functions\u001b[39;00m\n\u001b[1;32m      2\u001b[0m \u001b[38;5;66;03m#example def add_one(x):\u001b[39;00m\n\u001b[1;32m      3\u001b[0m     \u001b[38;5;66;03m# x+= 1\u001b[39;00m\n\u001b[0;32m----> 5\u001b[0m \u001b[38;5;28;01mfrom\u001b[39;00m \u001b[38;5;21;01mmodule\u001b[39;00m \u001b[38;5;28;01mimport\u001b[39;00m add_one\n\u001b[1;32m      7\u001b[0m x \u001b[38;5;241m=\u001b[39m \u001b[38;5;241m7\u001b[39m\n",
      "\u001b[0;31mModuleNotFoundError\u001b[0m: No module named 'module'"
     ]
    }
   ],
   "source": [
    "#create a file on VS code module.py and start writing helper functions\n",
    "#example def add_one(x):\n",
    "    # x+= 1\n",
    "\n",
    "from module import add_one\n",
    "\n",
    "x = 7\n"
   ]
  },
  {
   "cell_type": "markdown",
   "metadata": {},
   "source": [
    "# Exercises"
   ]
  },
  {
   "cell_type": "markdown",
   "metadata": {},
   "source": [
    "### 1) Build a Shopping Cart <br>\n",
    "<p><b>The program should have the following capabilities:</b><br><br>\n",
    "\n",
    "1) using input() the user should be able to interact with your program<br>\n",
    "2) The user should be able to add items, remove items, and show their shopping cart<br>\n",
    "3) When adding they will add the item as well as the quantity to their cart dictionary<br>\n",
    "4) When removing items they should be able to remove specific quantities (if they had 3 apples and want to remove 2, 1 apple should remain in the cart)<br>\n",
    "5) When showing the cart you won't just print the dictionary, you'll print each item and how many their are (shouldn't see 0 of an item)<br>\n",
    "6) The program should continue to loop (asking add/remove/show) until the user 'quits'<br>\n",
    "7) Upon quiting the program, print out all items in the user's list <br>\n",
    "</p>"
   ]
  },
  {
   "cell_type": "code",
   "execution_count": 18,
   "metadata": {},
   "outputs": [
    {
     "name": "stdout",
     "output_type": "stream",
     "text": [
      "Your cart has man : 4\n"
     ]
    }
   ],
   "source": [
    "# Ask the user four bits of input: Do you want to : Show/Add/Delete or Quit?\n",
    "# adding and removing specific quantities\n",
    "# while loop\n",
    "\n",
    "def shopping_cart():\n",
    "    cart = {}\n",
    "\n",
    "\n",
    "    while True:\n",
    "        option = input(\"Do you want to add, remove, show an item, or quit?\")\n",
    "        if option.lower() == 'add':\n",
    "            item = input(\"What item do you want to add?\")\n",
    "            quantity = int(input(f\"What is the quantity of {item}?\"))\n",
    "            cart[item] = quantity\n",
    "        \n",
    "        if option.lower() == 'show':\n",
    "            for item, quantity in cart.items():\n",
    "                if quantity !=0:\n",
    "                    print(f\"{item} {quantity}\")\n",
    "        \n",
    "        if option.lower() == 'remove':\n",
    "            item_to_remove = input(\"What item do you want to remove?\")\n",
    "            if item_to_remove in cart:\n",
    "                quantity_to_remove = int(input(f\"How many {item_to_remove} do you want to remove?\"))\n",
    "                cart[item_to_remove] = cart[item_to_remove] - quantity_to_remove\n",
    "               \n",
    "\n",
    "        if option.lower() == 'quit':\n",
    "            for item, quantity in cart.items():\n",
    "                    if quantity !=0:\n",
    "                        print(f\"Your cart has {item} : {quantity}\")\n",
    "            break\n",
    "\n",
    "    \n",
    "        \n",
    "shopping_cart()"
   ]
  },
  {
   "cell_type": "markdown",
   "metadata": {},
   "source": [
    "### 2) Create a Module in VS Code and Import It into jupyter notebook <br>\n",
    "<p><b>Module should have the following capabilities:</b><br><br>\n",
    "1) Has a function to calculate the square footage of a house <br>\n",
    "    <b>Reminder of Formula: Length X Width == Area<br>\n",
    "        <hr>\n",
    "2) Has a function to calculate the circumference of a circle <br><br>\n",
    "<b>Program in Jupyter Notebook should take in user input and use imported functions to calculate a circle's circumference or a houses square footage</b>\n",
    "</p>"
   ]
  },
  {
   "cell_type": "code",
   "execution_count": 9,
   "metadata": {},
   "outputs": [
    {
     "name": "stdout",
     "output_type": "stream",
     "text": [
      "24\n",
      "12.566370614359172\n"
     ]
    }
   ],
   "source": [
    "from module import area\n",
    "\n",
    "length = int(input(\"In feet, what is the length of your house?\"))\n",
    "width = int(input(\"In feet, what is the width of your house?\"))\n",
    "print(area(length,width))\n",
    "\n",
    "from module import circumference\n",
    "\n",
    "radius = int(input(\"What is the radius of the circle?\"))\n",
    "print(circumference(radius))\n",
    "\n",
    "\n",
    "\n",
    "\n",
    "\n",
    "\n",
    "   \n",
    "   \n",
    "   \n",
    " \n",
    "\n"
   ]
  },
  {
   "cell_type": "markdown",
   "metadata": {},
   "source": [
    "#### 3) Reply to the thread in slack with your codewars username (case sensitive), if you don't have a codewars account please create one "
   ]
  }
 ],
 "metadata": {
  "kernelspec": {
   "display_name": "Python 3",
   "language": "python",
   "name": "python3"
  },
  "language_info": {
   "codemirror_mode": {
    "name": "ipython",
    "version": 3
   },
   "file_extension": ".py",
   "mimetype": "text/x-python",
   "name": "python",
   "nbconvert_exporter": "python",
   "pygments_lexer": "ipython3",
   "version": "3.11.5"
  },
  "vscode": {
   "interpreter": {
    "hash": "aa82987a71ca0339a52998cd22613b0c002bda8349fa32a0cb67ceec3936a2bf"
   }
  }
 },
 "nbformat": 4,
 "nbformat_minor": 2
}
